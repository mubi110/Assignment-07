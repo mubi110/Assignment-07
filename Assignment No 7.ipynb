{
 "cells": [
  {
   "cell_type": "markdown",
   "id": "78780f3a-5538-4ace-be57-d34e73c25a9d",
   "metadata": {},
   "source": [
    "## Question No 1"
   ]
  },
  {
   "cell_type": "code",
   "execution_count": 3,
   "id": "d1e171ca-1c4f-4f38-a876-640e9bbddabe",
   "metadata": {},
   "outputs": [
    {
     "name": "stdout",
     "output_type": "stream",
     "text": [
      "Employee Name: Saqib\n",
      "Employee Number: 12345\n",
      "Address: Karachi\n",
      "Salary: 60000\n",
      "Post: Manager\n",
      "Year of Joining: 2020\n",
      "Education: MSCS\n",
      "Years of Experience: 7\n"
     ]
    }
   ],
   "source": [
    "class Employee:\n",
    "    def __init__(self, name, number, address, salary, post, year_of_joining, education, years_of_experience):\n",
    "        self.name = name\n",
    "        self.number = number\n",
    "        self.address = address\n",
    "        self.salary = salary\n",
    "        self.post = post\n",
    "        self.year_of_joining = year_of_joining\n",
    "        self.education = education\n",
    "        self.years_of_experience = years_of_experience\n",
    "\n",
    "    def emp_info(self):\n",
    "        print(f\"Employee Name: {self.name}\")\n",
    "        print(f\"Employee Number: {self.number}\")\n",
    "        print(f\"Address: {self.address}\")\n",
    "        print(f\"Salary: {self.salary}\")\n",
    "        print(f\"Post: {self.post}\")\n",
    "        print(f\"Year of Joining: {self.year_of_joining}\")\n",
    "        print(f\"Education: {self.education}\")\n",
    "        print(f\"Years of Experience: {self.years_of_experience}\")\n",
    "\n",
    "employee = Employee(\"Saqib\", 12345, \"Karachi\", 60000, \"Manager\", 2020, \"MSCS\", 7)\n",
    "employee.emp_info()"
   ]
  },
  {
   "cell_type": "markdown",
   "id": "a02baddf-0169-460e-99cf-4081cb54ce49",
   "metadata": {},
   "source": [
    "## Question No 2"
   ]
  },
  {
   "cell_type": "code",
   "execution_count": 175,
   "id": "19b46e41-76ef-4af2-bb96-380bcb94b599",
   "metadata": {},
   "outputs": [
    {
     "name": "stdout",
     "output_type": "stream",
     "text": [
      "Saqib's years of experience have been updated to 3 years.\n",
      "Saqib's salary has been increased by 10%. New salary is: 66000.0\n",
      "\n",
      "Employee Name: Saqib\n",
      "Employee Number: 12345\n",
      "Address: Karachi\n",
      "Salary: 66000.0\n",
      "Post: Manager\n",
      "Year of Joining: 2020\n",
      "Education: MSCS\n",
      "Years of Experience: 3\n"
     ]
    }
   ],
   "source": [
    "class Employee:\n",
    "    def __init__(self, name, number, address, salary, post, year_of_joining, education, years_of_experience):\n",
    "        self.name = name\n",
    "        self.number = number\n",
    "        self.address = address\n",
    "        self.salary = salary\n",
    "        self.post = post\n",
    "        self.year_of_joining = year_of_joining\n",
    "        self.education = education\n",
    "        self.years_of_experience = years_of_experience\n",
    "\n",
    "    def emp_info(self):\n",
    "        print(f\"Employee Name: {self.name}\")\n",
    "        print(f\"Employee Number: {self.number}\")\n",
    "        print(f\"Address: {self.address}\")\n",
    "        print(f\"Salary: {self.salary}\")\n",
    "        print(f\"Post: {self.post}\")\n",
    "        print(f\"Year of Joining: {self.year_of_joining}\")\n",
    "        print(f\"Education: {self.education}\")\n",
    "        print(f\"Years of Experience: {self.years_of_experience}\")\n",
    "\n",
    "    def update_year_of_experience(self, current_year):\n",
    "        self.years_of_experience = current_year - self.year_of_joining\n",
    "        print(f\"{self.name}'s years of experience have been updated to {self.years_of_experience} years.\")\n",
    "\n",
    "    def increase_salary(self, increment_percentage):\n",
    "        increment_amount = self.salary * .10  \n",
    "        self.salary += increment_amount\n",
    "        print(f\"{self.name}'s salary has been increased by {increment_percentage}%. New salary is: {self.salary}\\n\")\n",
    "        \n",
    "employee = Employee(\"Saqib\", 12345, \"Karachi\", 60000, \"Manager\", 2020, \"MSCS\", 7)\n",
    "employee.update_year_of_experience(2023)\n",
    "employee.increase_salary(10)\n",
    "employee.emp_info()"
   ]
  },
  {
   "cell_type": "markdown",
   "id": "4fa208ef-bc78-4265-a592-47b6b2b20460",
   "metadata": {},
   "source": [
    "## Question 3"
   ]
  },
  {
   "cell_type": "code",
   "execution_count": 180,
   "id": "1924e05b-239a-4649-800b-3fc60d6d3c8b",
   "metadata": {},
   "outputs": [
    {
     "name": "stdout",
     "output_type": "stream",
     "text": [
      "Employee Name: Saqib\n",
      "Employee Number: 12345\n",
      "Address: Karachi\n",
      "Salary: 60000\n"
     ]
    }
   ],
   "source": [
    "class Employee:\n",
    "    def __init__(self, name, number, address, salary, post, year_of_joining, education, years_of_experience):\n",
    "        self.name = name\n",
    "        self.number = number\n",
    "        self.address = address\n",
    "        self.salary = salary\n",
    "        self.post = post\n",
    "        self.year_of_joining = year_of_joining\n",
    "        self.education = education\n",
    "        self.years_of_experience = years_of_experience\n",
    "\n",
    "    def emp_info(self):\n",
    "        print(f\"Employee Name: {self.name}\")\n",
    "        print(f\"Employee Number: {self.number}\")\n",
    "        print(f\"Address: {self.address}\")\n",
    "        print(f\"Salary: {self.salary}\")\n",
    "        print(f\"Post: {self.post}\")\n",
    "        print(f\"Year of Joining: {self.year_of_joining}\")\n",
    "        print(f\"Education: {self.education}\")\n",
    "        print(f\"Years of Experience: {self.years_of_experience}\")\n",
    "\n",
    "    def update_year_of_experience(self, current_year):\n",
    "        self.years_of_experience = current_year - self.year_of_joining\n",
    "        print(f\"{self.name}'s years of experience have been updated to {self.years_of_experience} years.\")\n",
    "\n",
    "    def increase_salary(self, increment_percentage):\n",
    "        increment_amount = self.salary * .10  \n",
    "        self.salary += increment_amount\n",
    "        print(f\"{self.name}'s salary has been increased by {increment_percentage}%. New salary is: {self.salary}\\n\")\n",
    "        \n",
    "employee101 = Employee(\"Saqib\", 12345, \"Karachi\", 60000, \"Manager\", 2020, \"MSCS\", 7)\n",
    "print(\"Employee Name:\", employee101.name)\n",
    "print(\"Employee Number:\", employee101.number)\n",
    "print(\"Address:\", employee101.address)\n",
    "print(\"Salary:\", employee101.salary)"
   ]
  },
  {
   "cell_type": "code",
   "execution_count": null,
   "id": "912b29f4-111f-4a93-890d-99e754d01a84",
   "metadata": {},
   "outputs": [],
   "source": []
  }
 ],
 "metadata": {
  "kernelspec": {
   "display_name": "Python 3 (ipykernel)",
   "language": "python",
   "name": "python3"
  },
  "language_info": {
   "codemirror_mode": {
    "name": "ipython",
    "version": 3
   },
   "file_extension": ".py",
   "mimetype": "text/x-python",
   "name": "python",
   "nbconvert_exporter": "python",
   "pygments_lexer": "ipython3",
   "version": "3.12.4"
  }
 },
 "nbformat": 4,
 "nbformat_minor": 5
}
